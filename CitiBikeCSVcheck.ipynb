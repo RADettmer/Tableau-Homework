{
 "cells": [
  {
   "cell_type": "code",
   "execution_count": 1,
   "metadata": {},
   "outputs": [],
   "source": [
    "# Citi Bike Data Screening - 2020/06/24 - Randy Dettmer\n",
    "import pandas as pd\n",
    "import csv"
   ]
  },
  {
   "cell_type": "code",
   "execution_count": 2,
   "metadata": {
    "tags": []
   },
   "outputs": [
    {
     "output_type": "stream",
     "name": "stdout",
     "text": [
      "ReadingResources\\JC-201901-citibike-tripdata.csv\n",
      "ReadingResources\\JC-201902-citibike-tripdata.csv\n",
      "ReadingResources\\JC-201903-citibike-tripdata.csv\n",
      "ReadingResources\\JC-201904-citibike-tripdata.csv\n",
      "ReadingResources\\JC-201905-citibike-tripdata.csv\n",
      "ReadingResources\\JC-201906-citibike-tripdata.csv\n",
      "ReadingResources\\JC-201907-citibike-tripdata.csv\n",
      "ReadingResources\\JC-201908-citibike-tripdata.csv\n",
      "ReadingResources\\JC-201909-citibike-tripdata.csv\n",
      "ReadingResources\\JC-201910-citibike-tripdata.csv\n",
      "ReadingResources\\JC-201911-citibike-tripdata.csv\n",
      "ReadingResources\\JC-201912-citibike-tripdata.csv\n",
      "ReadingResources\\JC-202001-citibike-tripdata.csv\n",
      "ReadingResources\\JC-202002-citibike-tripdata.csv\n",
      "ReadingResources\\JC-202003-citibike-tripdata.csv\n",
      "ReadingResources\\JC-202004-citibike-tripdata.csv\n",
      "ReadingResources\\JC-202005-citibike-tripdata.csv\n"
     ]
    }
   ],
   "source": [
    "# combine data into data sets by half year - 2019 & 2020\n",
    "# used glob to speed up loading\n",
    "import glob\n",
    "filename = glob.glob(\"Resources/JC-20*.csv\")\n",
    "df = []\n",
    "for file in filename:\n",
    "    print(\"Reading\" + file)\n",
    "    df.append(pd.read_csv(file))"
   ]
  },
  {
   "cell_type": "code",
   "execution_count": 3,
   "metadata": {},
   "outputs": [],
   "source": [
    "# concat dataframes\n",
    "df1 = pd.concat(df)\n",
    "# pickle data - to help with integrity of data and reduce file size\n",
    "df1.to_pickle(\"Stuff/citibikedata.pk1\")\n",
    "# Unfortunately this file is too big for GitHub"
   ]
  },
  {
   "cell_type": "code",
   "execution_count": 4,
   "metadata": {
    "scrolled": true
   },
   "outputs": [
    {
     "output_type": "execute_result",
     "data": {
      "text/plain": [
       "(505993, 15)"
      ]
     },
     "metadata": {},
     "execution_count": 4
    }
   ],
   "source": [
    "# read pickle data back in\n",
    "df2 = pd.read_pickle(\"Stuff/citibikedata.pk1\")\n",
    "# how many observations and variables are there with this data set\n",
    "df2.shape"
   ]
  },
  {
   "cell_type": "code",
   "execution_count": 5,
   "metadata": {
    "tags": []
   },
   "outputs": [
    {
     "output_type": "stream",
     "name": "stdout",
     "text": [
      "<class 'pandas.core.frame.DataFrame'>\nInt64Index: 505993 entries, 0 to 25076\nData columns (total 15 columns):\n #   Column                   Non-Null Count   Dtype  \n---  ------                   --------------   -----  \n 0   tripduration             505993 non-null  int64  \n 1   starttime                505993 non-null  object \n 2   stoptime                 505993 non-null  object \n 3   start station id         505993 non-null  int64  \n 4   start station name       505993 non-null  object \n 5   start station latitude   505993 non-null  float64\n 6   start station longitude  505993 non-null  float64\n 7   end station id           505993 non-null  int64  \n 8   end station name         505993 non-null  object \n 9   end station latitude     505993 non-null  float64\n 10  end station longitude    505993 non-null  float64\n 11  bikeid                   505993 non-null  int64  \n 12  usertype                 505993 non-null  object \n 13  birth year               505993 non-null  int64  \n 14  gender                   505993 non-null  int64  \ndtypes: float64(4), int64(6), object(5)\nmemory usage: 61.8+ MB\n"
     ]
    }
   ],
   "source": [
    "# list columns in dataframe\n",
    "df2.info()"
   ]
  },
  {
   "cell_type": "code",
   "execution_count": 6,
   "metadata": {},
   "outputs": [
    {
     "output_type": "execute_result",
     "data": {
      "text/plain": [
       "(53,)"
      ]
     },
     "metadata": {},
     "execution_count": 6
    }
   ],
   "source": [
    "# starting here - split starting and ending station data from main data\n",
    "# number of starting stations\n",
    "df2[\"start station id\"].unique().shape"
   ]
  },
  {
   "cell_type": "code",
   "execution_count": 7,
   "metadata": {
    "tags": []
   },
   "outputs": [
    {
     "output_type": "stream",
     "name": "stdout",
     "text": [
      "[3183 3184 3185 3186 3187 3191 3192 3193 3194 3195 3196 3198 3199 3201\n 3202 3203 3205 3206 3207 3209 3210 3211 3212 3213 3214 3220 3225 3267\n 3268 3269 3270 3272 3273 3275 3276 3277 3278 3279 3280 3281 3426 3481\n 3483 3638 3639 3640 3677 3678 3679 3681 3694 3791 3792]\n"
     ]
    }
   ],
   "source": [
    "# print list starting stations\n",
    "ssid = df2['start station id'].unique()\n",
    "print(ssid)"
   ]
  },
  {
   "cell_type": "code",
   "execution_count": 8,
   "metadata": {},
   "outputs": [],
   "source": [
    "# create starting station dataframe\n",
    "dfsid = pd.DataFrame(df2.loc[:,[\"start station id\", \"start station name\", \"start station latitude\", \"start station longitude\"]])\n",
    "dfsid.drop_duplicates(subset=\"start station id\", keep='first', inplace=True)"
   ]
  },
  {
   "cell_type": "code",
   "execution_count": 9,
   "metadata": {
    "tags": []
   },
   "outputs": [
    {
     "output_type": "execute_result",
     "data": {
      "text/plain": [
       "      start station id start station name  start station latitude  \\\n",
       "0                 3183     Exchange Place               40.716247   \n",
       "817               3184        Paulus Hook               40.714145   \n",
       "1184              3185          City Hall               40.717733   \n",
       "1687              3186      Grove St PATH               40.719586   \n",
       "4348              3187          Warren St               40.721124   \n",
       "\n",
       "      start station longitude  \n",
       "0                  -74.033459  \n",
       "817                -74.033552  \n",
       "1184               -74.043845  \n",
       "1687               -74.043117  \n",
       "4348               -74.038051  "
      ],
      "text/html": "<div>\n<style scoped>\n    .dataframe tbody tr th:only-of-type {\n        vertical-align: middle;\n    }\n\n    .dataframe tbody tr th {\n        vertical-align: top;\n    }\n\n    .dataframe thead th {\n        text-align: right;\n    }\n</style>\n<table border=\"1\" class=\"dataframe\">\n  <thead>\n    <tr style=\"text-align: right;\">\n      <th></th>\n      <th>start station id</th>\n      <th>start station name</th>\n      <th>start station latitude</th>\n      <th>start station longitude</th>\n    </tr>\n  </thead>\n  <tbody>\n    <tr>\n      <th>0</th>\n      <td>3183</td>\n      <td>Exchange Place</td>\n      <td>40.716247</td>\n      <td>-74.033459</td>\n    </tr>\n    <tr>\n      <th>817</th>\n      <td>3184</td>\n      <td>Paulus Hook</td>\n      <td>40.714145</td>\n      <td>-74.033552</td>\n    </tr>\n    <tr>\n      <th>1184</th>\n      <td>3185</td>\n      <td>City Hall</td>\n      <td>40.717733</td>\n      <td>-74.043845</td>\n    </tr>\n    <tr>\n      <th>1687</th>\n      <td>3186</td>\n      <td>Grove St PATH</td>\n      <td>40.719586</td>\n      <td>-74.043117</td>\n    </tr>\n    <tr>\n      <th>4348</th>\n      <td>3187</td>\n      <td>Warren St</td>\n      <td>40.721124</td>\n      <td>-74.038051</td>\n    </tr>\n  </tbody>\n</table>\n</div>"
     },
     "metadata": {},
     "execution_count": 9
    }
   ],
   "source": [
    "# verify load into dataframe\n",
    "dfsid.head()"
   ]
  },
  {
   "cell_type": "code",
   "execution_count": 10,
   "metadata": {},
   "outputs": [],
   "source": [
    "# save starting station data 2019-2020 as one csv\n",
    "dfsid.to_csv(\"startstation.csv\", sep = \",\", encoding=\"utf-8\", index=False)"
   ]
  },
  {
   "cell_type": "code",
   "execution_count": 11,
   "metadata": {},
   "outputs": [
    {
     "output_type": "execute_result",
     "data": {
      "text/plain": [
       "(128,)"
      ]
     },
     "metadata": {},
     "execution_count": 11
    }
   ],
   "source": [
    "# number of ending stations\n",
    "df2[\"end station id\"].unique().shape"
   ]
  },
  {
   "cell_type": "code",
   "execution_count": 12,
   "metadata": {},
   "outputs": [
    {
     "output_type": "execute_result",
     "data": {
      "text/plain": [
       "array([3214, 3638, 3192, 3205, 3277, 3196, 3202, 3267, 3183, 3681, 3270,\n",
       "       3184, 3185, 3639, 3186, 3207, 3272, 3187, 3273, 3481, 3199, 3276,\n",
       "       3203, 3213, 3269, 3225, 3275, 3278, 3209, 3483, 3212, 3193, 3279,\n",
       "       3211, 3194, 3210, 3195, 3268, 3677, 3679, 3280, 3640, 3694, 3198,\n",
       "       3201, 3206, 3678, 3191, 3220, 3281, 3426, 3709,  514,  523,  513,\n",
       "        459,  327,  224, 3472, 3002,  477,  468, 3170, 3258,  526,  358,\n",
       "       3541,  303,  311, 3168, 3750,  487,  195, 3791,  315,  383,  426,\n",
       "        504,  447,  524, 3360, 3686,  337, 3167, 3664,  217, 3547, 3461,\n",
       "       3792,  505,  484,  279,  304,  285,  456, 3435,  464,  347, 3540,\n",
       "        116,  127, 3674, 3467,  363,  496,  309,  319,  392,  351,  128,\n",
       "        376,  525,  355,  254,  268,  442,  146,  377,  519, 2008, 3256,\n",
       "         83, 3649,  244, 3992, 3623,  476,  480], dtype=int64)"
      ]
     },
     "metadata": {},
     "execution_count": 12
    }
   ],
   "source": [
    "# print list of ending station numbers\n",
    "df2['end station id'].unique()"
   ]
  },
  {
   "cell_type": "code",
   "execution_count": 13,
   "metadata": {},
   "outputs": [],
   "source": [
    "# create ending station dataframe\n",
    "dfeid = pd.DataFrame(df2.loc[:,[\"end station id\", \"end station name\", \"end station latitude\", \"end station longitude\"]])\n",
    "dfeid.drop_duplicates(subset=\"end station id\", keep='first', inplace=True)"
   ]
  },
  {
   "cell_type": "code",
   "execution_count": 14,
   "metadata": {},
   "outputs": [
    {
     "output_type": "execute_result",
     "data": {
      "text/plain": [
       "   end station id         end station name  end station latitude  \\\n",
       "0            3214         Essex Light Rail             40.712774   \n",
       "1            3638            Washington St             40.724294   \n",
       "2            3192       Liberty Light Rail             40.711242   \n",
       "5            3205        JC Medical Center             40.716540   \n",
       "6            3277  Communipaw & Berry Lane             40.714358   \n",
       "\n",
       "   end station longitude  \n",
       "0             -74.036486  \n",
       "1             -74.035483  \n",
       "2             -74.055701  \n",
       "5             -74.049638  \n",
       "6             -74.066611  "
      ],
      "text/html": "<div>\n<style scoped>\n    .dataframe tbody tr th:only-of-type {\n        vertical-align: middle;\n    }\n\n    .dataframe tbody tr th {\n        vertical-align: top;\n    }\n\n    .dataframe thead th {\n        text-align: right;\n    }\n</style>\n<table border=\"1\" class=\"dataframe\">\n  <thead>\n    <tr style=\"text-align: right;\">\n      <th></th>\n      <th>end station id</th>\n      <th>end station name</th>\n      <th>end station latitude</th>\n      <th>end station longitude</th>\n    </tr>\n  </thead>\n  <tbody>\n    <tr>\n      <th>0</th>\n      <td>3214</td>\n      <td>Essex Light Rail</td>\n      <td>40.712774</td>\n      <td>-74.036486</td>\n    </tr>\n    <tr>\n      <th>1</th>\n      <td>3638</td>\n      <td>Washington St</td>\n      <td>40.724294</td>\n      <td>-74.035483</td>\n    </tr>\n    <tr>\n      <th>2</th>\n      <td>3192</td>\n      <td>Liberty Light Rail</td>\n      <td>40.711242</td>\n      <td>-74.055701</td>\n    </tr>\n    <tr>\n      <th>5</th>\n      <td>3205</td>\n      <td>JC Medical Center</td>\n      <td>40.716540</td>\n      <td>-74.049638</td>\n    </tr>\n    <tr>\n      <th>6</th>\n      <td>3277</td>\n      <td>Communipaw &amp; Berry Lane</td>\n      <td>40.714358</td>\n      <td>-74.066611</td>\n    </tr>\n  </tbody>\n</table>\n</div>"
     },
     "metadata": {},
     "execution_count": 14
    }
   ],
   "source": [
    "# verify load into dataframe\n",
    "dfeid.head()"
   ]
  },
  {
   "cell_type": "code",
   "execution_count": 15,
   "metadata": {},
   "outputs": [],
   "source": [
    "# save end station data 2018-2020 as one csv\n",
    "dfeid.to_csv(\"endstation.csv\", sep = \",\", encoding=\"utf-8\", index=False)"
   ]
  },
  {
   "cell_type": "code",
   "execution_count": 16,
   "metadata": {},
   "outputs": [],
   "source": [
    "# starting here - clean columns and save data\n",
    "# remove columns no longer required from stations\n",
    "df2.drop(columns=['start station name','start station latitude','start station longitude', 'end station name', \n",
    "                  'end station latitude', 'end station longitude'], inplace=True)"
   ]
  },
  {
   "cell_type": "code",
   "execution_count": 17,
   "metadata": {},
   "outputs": [
    {
     "output_type": "execute_result",
     "data": {
      "text/plain": [
       "   tripduration                 starttime                  stoptime  \\\n",
       "0           201  2019-01-01 03:09:09.7110  2019-01-01 03:12:30.8790   \n",
       "1           505  2019-01-01 05:18:00.1060  2019-01-01 05:26:25.9050   \n",
       "2           756  2019-01-01 10:36:33.3400  2019-01-01 10:49:10.2600   \n",
       "3          1575  2019-01-01 12:43:38.6430  2019-01-01 13:09:54.5280   \n",
       "4          1566  2019-01-01 12:43:39.6010  2019-01-01 13:09:46.5100   \n",
       "\n",
       "   start station id  end station id  bikeid    usertype  birth year  gender  \n",
       "0              3183            3214   29612  Subscriber        1993       1  \n",
       "1              3183            3638   29213  Subscriber        1972       2  \n",
       "2              3183            3192   26164  Subscriber        1985       1  \n",
       "3              3183            3638   29672    Customer        1969       0  \n",
       "4              3183            3638   29522    Customer        1969       0  "
      ],
      "text/html": "<div>\n<style scoped>\n    .dataframe tbody tr th:only-of-type {\n        vertical-align: middle;\n    }\n\n    .dataframe tbody tr th {\n        vertical-align: top;\n    }\n\n    .dataframe thead th {\n        text-align: right;\n    }\n</style>\n<table border=\"1\" class=\"dataframe\">\n  <thead>\n    <tr style=\"text-align: right;\">\n      <th></th>\n      <th>tripduration</th>\n      <th>starttime</th>\n      <th>stoptime</th>\n      <th>start station id</th>\n      <th>end station id</th>\n      <th>bikeid</th>\n      <th>usertype</th>\n      <th>birth year</th>\n      <th>gender</th>\n    </tr>\n  </thead>\n  <tbody>\n    <tr>\n      <th>0</th>\n      <td>201</td>\n      <td>2019-01-01 03:09:09.7110</td>\n      <td>2019-01-01 03:12:30.8790</td>\n      <td>3183</td>\n      <td>3214</td>\n      <td>29612</td>\n      <td>Subscriber</td>\n      <td>1993</td>\n      <td>1</td>\n    </tr>\n    <tr>\n      <th>1</th>\n      <td>505</td>\n      <td>2019-01-01 05:18:00.1060</td>\n      <td>2019-01-01 05:26:25.9050</td>\n      <td>3183</td>\n      <td>3638</td>\n      <td>29213</td>\n      <td>Subscriber</td>\n      <td>1972</td>\n      <td>2</td>\n    </tr>\n    <tr>\n      <th>2</th>\n      <td>756</td>\n      <td>2019-01-01 10:36:33.3400</td>\n      <td>2019-01-01 10:49:10.2600</td>\n      <td>3183</td>\n      <td>3192</td>\n      <td>26164</td>\n      <td>Subscriber</td>\n      <td>1985</td>\n      <td>1</td>\n    </tr>\n    <tr>\n      <th>3</th>\n      <td>1575</td>\n      <td>2019-01-01 12:43:38.6430</td>\n      <td>2019-01-01 13:09:54.5280</td>\n      <td>3183</td>\n      <td>3638</td>\n      <td>29672</td>\n      <td>Customer</td>\n      <td>1969</td>\n      <td>0</td>\n    </tr>\n    <tr>\n      <th>4</th>\n      <td>1566</td>\n      <td>2019-01-01 12:43:39.6010</td>\n      <td>2019-01-01 13:09:46.5100</td>\n      <td>3183</td>\n      <td>3638</td>\n      <td>29522</td>\n      <td>Customer</td>\n      <td>1969</td>\n      <td>0</td>\n    </tr>\n  </tbody>\n</table>\n</div>"
     },
     "metadata": {},
     "execution_count": 17
    }
   ],
   "source": [
    "# verify column removal\n",
    "df2.head()"
   ]
  },
  {
   "cell_type": "code",
   "execution_count": 18,
   "metadata": {},
   "outputs": [],
   "source": [
    "# save combined data 2019-2020 as one csv\n",
    "# Unfortunately this file is too big for GitHub\n",
    "df2.to_csv(\"Stuff/bikedata.csv\", sep = \",\", encoding=\"utf-8\", index=False)"
   ]
  },
  {
   "cell_type": "code",
   "execution_count": 19,
   "metadata": {},
   "outputs": [
    {
     "output_type": "execute_result",
     "data": {
      "text/plain": [
       "       tripduration                 starttime                  stoptime  \\\n",
       "19723           283  2019-12-31 23:12:18.5480  2019-12-31 23:17:01.8740   \n",
       "19724           267  2019-12-31 23:19:03.5840  2019-12-31 23:23:30.6640   \n",
       "19725           379  2019-12-31 23:19:06.5830  2019-12-31 23:25:25.7970   \n",
       "19726           188  2019-12-31 23:24:00.2630  2019-12-31 23:27:09.0400   \n",
       "19727           326  2019-12-31 23:45:20.9780  2019-12-31 23:50:47.7490   \n",
       "\n",
       "       start station id  end station id  bikeid    usertype  birth year  \\\n",
       "19723              3195            3679   29245    Customer        1990   \n",
       "19724              3186            3205   26153  Subscriber        1989   \n",
       "19725              3209            3185   26276  Subscriber        1984   \n",
       "19726              3639            3186   29461  Subscriber        1987   \n",
       "19727              3195            3280   29123  Subscriber        1988   \n",
       "\n",
       "       gender  \n",
       "19723       1  \n",
       "19724       1  \n",
       "19725       1  \n",
       "19726       1  \n",
       "19727       1  "
      ],
      "text/html": "<div>\n<style scoped>\n    .dataframe tbody tr th:only-of-type {\n        vertical-align: middle;\n    }\n\n    .dataframe tbody tr th {\n        vertical-align: top;\n    }\n\n    .dataframe thead th {\n        text-align: right;\n    }\n</style>\n<table border=\"1\" class=\"dataframe\">\n  <thead>\n    <tr style=\"text-align: right;\">\n      <th></th>\n      <th>tripduration</th>\n      <th>starttime</th>\n      <th>stoptime</th>\n      <th>start station id</th>\n      <th>end station id</th>\n      <th>bikeid</th>\n      <th>usertype</th>\n      <th>birth year</th>\n      <th>gender</th>\n    </tr>\n  </thead>\n  <tbody>\n    <tr>\n      <th>19723</th>\n      <td>283</td>\n      <td>2019-12-31 23:12:18.5480</td>\n      <td>2019-12-31 23:17:01.8740</td>\n      <td>3195</td>\n      <td>3679</td>\n      <td>29245</td>\n      <td>Customer</td>\n      <td>1990</td>\n      <td>1</td>\n    </tr>\n    <tr>\n      <th>19724</th>\n      <td>267</td>\n      <td>2019-12-31 23:19:03.5840</td>\n      <td>2019-12-31 23:23:30.6640</td>\n      <td>3186</td>\n      <td>3205</td>\n      <td>26153</td>\n      <td>Subscriber</td>\n      <td>1989</td>\n      <td>1</td>\n    </tr>\n    <tr>\n      <th>19725</th>\n      <td>379</td>\n      <td>2019-12-31 23:19:06.5830</td>\n      <td>2019-12-31 23:25:25.7970</td>\n      <td>3209</td>\n      <td>3185</td>\n      <td>26276</td>\n      <td>Subscriber</td>\n      <td>1984</td>\n      <td>1</td>\n    </tr>\n    <tr>\n      <th>19726</th>\n      <td>188</td>\n      <td>2019-12-31 23:24:00.2630</td>\n      <td>2019-12-31 23:27:09.0400</td>\n      <td>3639</td>\n      <td>3186</td>\n      <td>29461</td>\n      <td>Subscriber</td>\n      <td>1987</td>\n      <td>1</td>\n    </tr>\n    <tr>\n      <th>19727</th>\n      <td>326</td>\n      <td>2019-12-31 23:45:20.9780</td>\n      <td>2019-12-31 23:50:47.7490</td>\n      <td>3195</td>\n      <td>3280</td>\n      <td>29123</td>\n      <td>Subscriber</td>\n      <td>1988</td>\n      <td>1</td>\n    </tr>\n  </tbody>\n</table>\n</div>"
     },
     "metadata": {},
     "execution_count": 19
    }
   ],
   "source": [
    "# starting here - save data by half year 2019/2020\n",
    "# split data into half year to minimize file size\n",
    "df2019a = df2[df2[\"starttime\"] < \"2020-01-01\"]\n",
    "df2019a.tail()"
   ]
  },
  {
   "cell_type": "code",
   "execution_count": 20,
   "metadata": {},
   "outputs": [
    {
     "output_type": "execute_result",
     "data": {
      "text/plain": [
       "       tripduration                 starttime                  stoptime  \\\n",
       "39425           639  2019-06-30 23:38:29.5450  2019-06-30 23:49:09.2110   \n",
       "39426           643  2019-06-30 23:38:34.9100  2019-06-30 23:49:17.9690   \n",
       "39427           418  2019-06-30 23:42:30.9400  2019-06-30 23:49:29.5360   \n",
       "39428          2529  2019-06-30 23:46:17.5700  2019-07-01 00:28:27.1710   \n",
       "39429           831  2019-06-30 23:49:01.6830  2019-07-01 00:02:53.1150   \n",
       "\n",
       "       start station id  end station id  bikeid    usertype  birth year  \\\n",
       "39425              3677            3191   29197    Customer        1986   \n",
       "39426              3677            3191   26262    Customer        1990   \n",
       "39427              3679            3191   29241  Subscriber        1979   \n",
       "39428              3185            3213   26254  Subscriber        1982   \n",
       "39429              3210            3186   29551  Subscriber        1988   \n",
       "\n",
       "       gender  \n",
       "39425       1  \n",
       "39426       2  \n",
       "39427       1  \n",
       "39428       1  \n",
       "39429       1  "
      ],
      "text/html": "<div>\n<style scoped>\n    .dataframe tbody tr th:only-of-type {\n        vertical-align: middle;\n    }\n\n    .dataframe tbody tr th {\n        vertical-align: top;\n    }\n\n    .dataframe thead th {\n        text-align: right;\n    }\n</style>\n<table border=\"1\" class=\"dataframe\">\n  <thead>\n    <tr style=\"text-align: right;\">\n      <th></th>\n      <th>tripduration</th>\n      <th>starttime</th>\n      <th>stoptime</th>\n      <th>start station id</th>\n      <th>end station id</th>\n      <th>bikeid</th>\n      <th>usertype</th>\n      <th>birth year</th>\n      <th>gender</th>\n    </tr>\n  </thead>\n  <tbody>\n    <tr>\n      <th>39425</th>\n      <td>639</td>\n      <td>2019-06-30 23:38:29.5450</td>\n      <td>2019-06-30 23:49:09.2110</td>\n      <td>3677</td>\n      <td>3191</td>\n      <td>29197</td>\n      <td>Customer</td>\n      <td>1986</td>\n      <td>1</td>\n    </tr>\n    <tr>\n      <th>39426</th>\n      <td>643</td>\n      <td>2019-06-30 23:38:34.9100</td>\n      <td>2019-06-30 23:49:17.9690</td>\n      <td>3677</td>\n      <td>3191</td>\n      <td>26262</td>\n      <td>Customer</td>\n      <td>1990</td>\n      <td>2</td>\n    </tr>\n    <tr>\n      <th>39427</th>\n      <td>418</td>\n      <td>2019-06-30 23:42:30.9400</td>\n      <td>2019-06-30 23:49:29.5360</td>\n      <td>3679</td>\n      <td>3191</td>\n      <td>29241</td>\n      <td>Subscriber</td>\n      <td>1979</td>\n      <td>1</td>\n    </tr>\n    <tr>\n      <th>39428</th>\n      <td>2529</td>\n      <td>2019-06-30 23:46:17.5700</td>\n      <td>2019-07-01 00:28:27.1710</td>\n      <td>3185</td>\n      <td>3213</td>\n      <td>26254</td>\n      <td>Subscriber</td>\n      <td>1982</td>\n      <td>1</td>\n    </tr>\n    <tr>\n      <th>39429</th>\n      <td>831</td>\n      <td>2019-06-30 23:49:01.6830</td>\n      <td>2019-07-01 00:02:53.1150</td>\n      <td>3210</td>\n      <td>3186</td>\n      <td>29551</td>\n      <td>Subscriber</td>\n      <td>1988</td>\n      <td>1</td>\n    </tr>\n  </tbody>\n</table>\n</div>"
     },
     "metadata": {},
     "execution_count": 20
    }
   ],
   "source": [
    "# split off first half of data for 2019\n",
    "df2019A=df2019a[df2019a[\"starttime\"] < \"2019-07-01\"]\n",
    "df2019A.tail()"
   ]
  },
  {
   "cell_type": "code",
   "execution_count": 21,
   "metadata": {},
   "outputs": [],
   "source": [
    "# save first half of 2019 data\n",
    "df2019A.to_csv(\"bikedata2019A.csv\", sep = \",\", encoding=\"utf-8\", index=False)"
   ]
  },
  {
   "cell_type": "code",
   "execution_count": 22,
   "metadata": {},
   "outputs": [
    {
     "output_type": "execute_result",
     "data": {
      "text/plain": [
       "   tripduration                 starttime                  stoptime  \\\n",
       "0          1793  2019-07-01 00:00:36.6150  2019-07-01 00:30:30.5940   \n",
       "1           434  2019-07-01 00:02:54.6150  2019-07-01 00:10:09.0370   \n",
       "2           251  2019-07-01 00:03:27.5670  2019-07-01 00:07:38.6080   \n",
       "3           636  2019-07-01 00:03:56.1690  2019-07-01 00:14:32.4180   \n",
       "4           623  2019-07-01 00:04:16.2060  2019-07-01 00:14:40.0500   \n",
       "\n",
       "   start station id  end station id  bikeid    usertype  birth year  gender  \n",
       "0              3186            3198   29595  Subscriber        1978       1  \n",
       "1              3206            3280   29647  Subscriber        1988       1  \n",
       "2              3186            3205   26271  Subscriber        1986       1  \n",
       "3              3206            3281   26225    Customer        1996       2  \n",
       "4              3206            3281   29230    Customer        1989       1  "
      ],
      "text/html": "<div>\n<style scoped>\n    .dataframe tbody tr th:only-of-type {\n        vertical-align: middle;\n    }\n\n    .dataframe tbody tr th {\n        vertical-align: top;\n    }\n\n    .dataframe thead th {\n        text-align: right;\n    }\n</style>\n<table border=\"1\" class=\"dataframe\">\n  <thead>\n    <tr style=\"text-align: right;\">\n      <th></th>\n      <th>tripduration</th>\n      <th>starttime</th>\n      <th>stoptime</th>\n      <th>start station id</th>\n      <th>end station id</th>\n      <th>bikeid</th>\n      <th>usertype</th>\n      <th>birth year</th>\n      <th>gender</th>\n    </tr>\n  </thead>\n  <tbody>\n    <tr>\n      <th>0</th>\n      <td>1793</td>\n      <td>2019-07-01 00:00:36.6150</td>\n      <td>2019-07-01 00:30:30.5940</td>\n      <td>3186</td>\n      <td>3198</td>\n      <td>29595</td>\n      <td>Subscriber</td>\n      <td>1978</td>\n      <td>1</td>\n    </tr>\n    <tr>\n      <th>1</th>\n      <td>434</td>\n      <td>2019-07-01 00:02:54.6150</td>\n      <td>2019-07-01 00:10:09.0370</td>\n      <td>3206</td>\n      <td>3280</td>\n      <td>29647</td>\n      <td>Subscriber</td>\n      <td>1988</td>\n      <td>1</td>\n    </tr>\n    <tr>\n      <th>2</th>\n      <td>251</td>\n      <td>2019-07-01 00:03:27.5670</td>\n      <td>2019-07-01 00:07:38.6080</td>\n      <td>3186</td>\n      <td>3205</td>\n      <td>26271</td>\n      <td>Subscriber</td>\n      <td>1986</td>\n      <td>1</td>\n    </tr>\n    <tr>\n      <th>3</th>\n      <td>636</td>\n      <td>2019-07-01 00:03:56.1690</td>\n      <td>2019-07-01 00:14:32.4180</td>\n      <td>3206</td>\n      <td>3281</td>\n      <td>26225</td>\n      <td>Customer</td>\n      <td>1996</td>\n      <td>2</td>\n    </tr>\n    <tr>\n      <th>4</th>\n      <td>623</td>\n      <td>2019-07-01 00:04:16.2060</td>\n      <td>2019-07-01 00:14:40.0500</td>\n      <td>3206</td>\n      <td>3281</td>\n      <td>29230</td>\n      <td>Customer</td>\n      <td>1989</td>\n      <td>1</td>\n    </tr>\n  </tbody>\n</table>\n</div>"
     },
     "metadata": {},
     "execution_count": 22
    }
   ],
   "source": [
    "# split off second half of data for 2019\n",
    "df2019b=df2019a[df2019a[\"starttime\"] >= \"2019-07-01\"]\n",
    "df2019b.head()"
   ]
  },
  {
   "cell_type": "code",
   "execution_count": 23,
   "metadata": {},
   "outputs": [],
   "source": [
    "# save second half of 2019 data\n",
    "df2019b.to_csv(\"bikedata2019B.csv\", sep = \",\", encoding=\"utf-8\", index=False)"
   ]
  },
  {
   "cell_type": "code",
   "execution_count": 24,
   "metadata": {},
   "outputs": [
    {
     "output_type": "execute_result",
     "data": {
      "text/plain": [
       "   tripduration                 starttime                  stoptime  \\\n",
       "0           226  2020-01-01 00:04:50.1920  2020-01-01 00:08:37.0370   \n",
       "1           377  2020-01-01 00:16:01.6700  2020-01-01 00:22:19.0800   \n",
       "2           288  2020-01-01 00:17:33.8770  2020-01-01 00:22:22.4420   \n",
       "3           435  2020-01-01 00:32:05.9020  2020-01-01 00:39:21.0660   \n",
       "4           231  2020-01-01 00:46:19.6780  2020-01-01 00:50:11.3440   \n",
       "\n",
       "   start station id  end station id  bikeid    usertype  birth year  gender  \n",
       "0              3186            3211   29444  Subscriber        1984       2  \n",
       "1              3186            3269   26305  Subscriber        1989       2  \n",
       "2              3186            3269   29268    Customer        1989       1  \n",
       "3              3195            3280   29278    Customer        1969       0  \n",
       "4              3186            3276   29276  Subscriber        1983       2  "
      ],
      "text/html": "<div>\n<style scoped>\n    .dataframe tbody tr th:only-of-type {\n        vertical-align: middle;\n    }\n\n    .dataframe tbody tr th {\n        vertical-align: top;\n    }\n\n    .dataframe thead th {\n        text-align: right;\n    }\n</style>\n<table border=\"1\" class=\"dataframe\">\n  <thead>\n    <tr style=\"text-align: right;\">\n      <th></th>\n      <th>tripduration</th>\n      <th>starttime</th>\n      <th>stoptime</th>\n      <th>start station id</th>\n      <th>end station id</th>\n      <th>bikeid</th>\n      <th>usertype</th>\n      <th>birth year</th>\n      <th>gender</th>\n    </tr>\n  </thead>\n  <tbody>\n    <tr>\n      <th>0</th>\n      <td>226</td>\n      <td>2020-01-01 00:04:50.1920</td>\n      <td>2020-01-01 00:08:37.0370</td>\n      <td>3186</td>\n      <td>3211</td>\n      <td>29444</td>\n      <td>Subscriber</td>\n      <td>1984</td>\n      <td>2</td>\n    </tr>\n    <tr>\n      <th>1</th>\n      <td>377</td>\n      <td>2020-01-01 00:16:01.6700</td>\n      <td>2020-01-01 00:22:19.0800</td>\n      <td>3186</td>\n      <td>3269</td>\n      <td>26305</td>\n      <td>Subscriber</td>\n      <td>1989</td>\n      <td>2</td>\n    </tr>\n    <tr>\n      <th>2</th>\n      <td>288</td>\n      <td>2020-01-01 00:17:33.8770</td>\n      <td>2020-01-01 00:22:22.4420</td>\n      <td>3186</td>\n      <td>3269</td>\n      <td>29268</td>\n      <td>Customer</td>\n      <td>1989</td>\n      <td>1</td>\n    </tr>\n    <tr>\n      <th>3</th>\n      <td>435</td>\n      <td>2020-01-01 00:32:05.9020</td>\n      <td>2020-01-01 00:39:21.0660</td>\n      <td>3195</td>\n      <td>3280</td>\n      <td>29278</td>\n      <td>Customer</td>\n      <td>1969</td>\n      <td>0</td>\n    </tr>\n    <tr>\n      <th>4</th>\n      <td>231</td>\n      <td>2020-01-01 00:46:19.6780</td>\n      <td>2020-01-01 00:50:11.3440</td>\n      <td>3186</td>\n      <td>3276</td>\n      <td>29276</td>\n      <td>Subscriber</td>\n      <td>1983</td>\n      <td>2</td>\n    </tr>\n  </tbody>\n</table>\n</div>"
     },
     "metadata": {},
     "execution_count": 24
    }
   ],
   "source": [
    "# split off data for 2020\n",
    "df2020=df2[df2[\"starttime\"] >= \"2020-01-01\"]\n",
    "df2020.head()"
   ]
  },
  {
   "cell_type": "code",
   "execution_count": 25,
   "metadata": {},
   "outputs": [],
   "source": [
    "# save 2020 data (only 5 months available as of 2020/06/24)\n",
    "df2020.to_csv(\"bikedata2020.csv\", sep = \",\", encoding=\"utf-8\", index=False)"
   ]
  },
  {
   "cell_type": "code",
   "execution_count": 26,
   "metadata": {},
   "outputs": [],
   "source": [
    "# end of file"
   ]
  }
 ],
 "metadata": {
  "kernelspec": {
   "display_name": "Python 3.7.6 64-bit ('PythonData': conda)",
   "language": "python",
   "name": "python37664bitpythondatacondab73bfd16082e40c58c05a61ec360665f"
  },
  "language_info": {
   "codemirror_mode": {
    "name": "ipython",
    "version": 3
   },
   "file_extension": ".py",
   "mimetype": "text/x-python",
   "name": "python",
   "nbconvert_exporter": "python",
   "pygments_lexer": "ipython3",
   "version": "3.7.9-final"
  }
 },
 "nbformat": 4,
 "nbformat_minor": 4
}